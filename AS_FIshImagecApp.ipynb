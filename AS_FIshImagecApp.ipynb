{
  "nbformat": 4,
  "nbformat_minor": 0,
  "metadata": {
    "colab": {
      "provenance": [],
      "include_colab_link": true
    },
    "kernelspec": {
      "name": "python3",
      "display_name": "Python 3"
    },
    "accelerator": "GPU"
  },
  "cells": [
    {
      "cell_type": "markdown",
      "metadata": {
        "id": "view-in-github",
        "colab_type": "text"
      },
      "source": [
        "<a href=\"https://colab.research.google.com/github/alsuzbus/nn-app/blob/main/AS_FIshImagecApp.ipynb\" target=\"_parent\"><img src=\"https://colab.research.google.com/assets/colab-badge.svg\" alt=\"Open In Colab\"/></a>"
      ]
    },
    {
      "cell_type": "markdown",
      "metadata": {
        "id": "VVMjLKqp2as3"
      },
      "source": [
        "#Fish Image Classifier Web App\n"
      ]
    },
    {
      "cell_type": "code",
      "metadata": {
        "id": "A9zdMqluJDgn"
      },
      "source": [
        "from fastai.vision.all import *\n",
        "from fastai.vision.widgets import *"
      ],
      "execution_count": null,
      "outputs": []
    },
    {
      "cell_type": "code",
      "metadata": {
        "id": "obitad3w_UZb"
      },
      "source": [
        "# learn_inf = load_learner('export.pkl') # was the original line\n",
        "# path = Path('gdrive/My Drive/as-new')\n",
        "# learn_inf = load_learner(path/'dogstrained.pkl')\n",
        "learn_inf = load_learner('./export.pkl') # this is the name of my pkl file uploaded to git hub\n"
      ],
      "execution_count": null,
      "outputs": []
    },
    {
      "cell_type": "code",
      "metadata": {
        "id": "bNdHdYq4_7sq"
      },
      "source": [
        "btn_upload = widgets.FileUpload()\n",
        "btn_upload = widgets.FileUpload(\n",
        "    description='Upload image'\n",
        ")"
      ],
      "execution_count": null,
      "outputs": []
    },
    {
      "cell_type": "code",
      "metadata": {
        "id": "m40M-gtwEP6V"
      },
      "source": [
        "btn_run = widgets.Button(description='Classify')"
      ],
      "execution_count": null,
      "outputs": []
    },
    {
      "cell_type": "code",
      "metadata": {
        "id": "QOOhhRguEYHJ"
      },
      "source": [
        "out_pl = widgets.Output()\n",
        "lbl_pred = widgets.Label()"
      ],
      "execution_count": null,
      "outputs": []
    },
    {
      "cell_type": "code",
      "metadata": {
        "id": "sMo0_9ZEhyl8"
      },
      "source": [
        "def on_click_classify(change):\n",
        "    img = PILImage.create(btn_upload.data[-1])\n",
        "    out_pl.clear_output()\n",
        "    with out_pl: display(img.to_thumb(128,128))\n",
        "    pred,pred_idx,probs = learn_inf.predict(img)\n",
        "    lbl_pred.value = f'Prediction: {pred}; Probability: {probs[pred_idx]:.04f}'\n",
        "\n",
        "btn_run.on_click(on_click_classify)"
      ],
      "execution_count": null,
      "outputs": []
    },
    {
      "cell_type": "markdown",
      "metadata": {
        "id": "JgNWssAsh9a0"
      },
      "source": [
        "Classify your image!"
      ]
    },
    {
      "cell_type": "code",
      "metadata": {
        "id": "30PYBlv-EymF"
      },
      "source": [
        "VBox([widgets.Label('Upload your Image!'), \n",
        "      btn_upload, btn_run, out_pl, lbl_pred])"
      ],
      "execution_count": null,
      "outputs": []
    }
  ]
}